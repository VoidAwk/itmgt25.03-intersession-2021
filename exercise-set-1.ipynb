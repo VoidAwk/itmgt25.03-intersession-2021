{
 "cells": [
  {
   "cell_type": "markdown",
   "id": "90985864-8385-4161-ac86-392c12a7b303",
   "metadata": {},
   "source": [
    "# Exercise Set 1\n",
    "\n",
    "### Instructions\n",
    "\n",
    "1. Unless stated otherwise, all functions are to RETURN the output, not print it."
   ]
  },
  {
   "cell_type": "markdown",
   "id": "9a5ef442-ce87-4159-8a64-4fc25df3ca27",
   "metadata": {},
   "source": [
    "## 1.1: Interest  \n",
    "\n",
    "In finance, money is often lent by those with an excess of it to those in need of it. This is only acceptable to lenders because they can expect borrowers to ultimately repay them an amount on top of the borrowed principal. This amount is called _interest_. Lenders usually set an _interest rate_ on the principal that they lend out.  \n",
    "\n",
    "There are two well-known models of interest: \n",
    "1. Simple interest\n",
    "2. Compound interest  \n",
    "\n"
   ]
  },
  {
   "cell_type": "markdown",
   "id": "de32ac74-a5f2-40f2-957d-94a8f9bc4b69",
   "metadata": {},
   "source": [
    "#### Simple interest\n",
    "\n",
    "Simple interest only considers the principal amount. Every time period, interest in the amount of the interest rate multiplied by the principal is added to the total repayable sum.  \n",
    "\n",
    "Simple interest is thus calculated with the following formula:  \n",
    "`principal * interest rate * time elapsed`  \n",
    "\n",
    "Write a function that calculates the simple interest that a borrower must pay a lender.  \n",
    "\n",
    "Expected output:  \n",
    "Arguments: `principal`, `interest_rate`, `time_periods`  \n",
    "`simple_interest(10_000, 0.03, 5)` => `1500.00`"
   ]
  },
  {
   "cell_type": "code",
   "execution_count": null,
   "id": "acf3128b-5bd0-4c62-948b-ebaacfacf94b",
   "metadata": {},
   "outputs": [],
   "source": []
  },
  {
   "cell_type": "markdown",
   "id": "e9d71316-4cf0-4440-9e6d-78c16eabe88b",
   "metadata": {},
   "source": [
    "#### Compound interest\n",
    "\n",
    "Compound interest considers interest that has accrued (i.e., not only the principal amount). Every time period, interest in the amount of the interest rate multiplied by the current total repayable sum is added to the total repayable sum.  \n",
    "\n",
    "Write a function that calculates the compound interest that a borrower must pay a lender.  \n",
    "\n",
    "Expected output:  \n",
    "Arguments: `principal`, `interest_rate`, `time_periods`  \n",
    "`compound_interest(10_000, 0.03, 5)` => `1592.74`"
   ]
  },
  {
   "cell_type": "markdown",
   "id": "2c94662b-9e2c-439a-94ef-3edec296b9a2",
   "metadata": {},
   "source": [
    "### Application\n",
    "\n",
    "Write a function that calculates the point in time at which a compound interest rate plan with an interest rate of x% becomes more expensive than a simple interest rate plan with an interest rate of y%.\n",
    "\n",
    "Expected output:  \n",
    "Arguments: `simple_interest_rate`, `compound_interest_rate`  \n",
    "`crossover_point(0.09, 0.07)` => `9`  "
   ]
  },
  {
   "cell_type": "code",
   "execution_count": null,
   "id": "c150dbf0-6ede-4595-8412-a50b9b2f1596",
   "metadata": {},
   "outputs": [],
   "source": []
  }
 ],
 "metadata": {
  "kernelspec": {
   "display_name": "Python 3",
   "language": "python",
   "name": "python3"
  },
  "language_info": {
   "codemirror_mode": {
    "name": "ipython",
    "version": 3
   },
   "file_extension": ".py",
   "mimetype": "text/x-python",
   "name": "python",
   "nbconvert_exporter": "python",
   "pygments_lexer": "ipython3",
   "version": "3.9.5"
  }
 },
 "nbformat": 4,
 "nbformat_minor": 5
}
