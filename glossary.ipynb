{
 "cells": [
  {
   "cell_type": "markdown",
   "id": "fdec2a24-1fc5-4c5c-ad72-d41c6658a4cf",
   "metadata": {},
   "source": [
    "# ITMGT 25 Glossary"
   ]
  },
  {
   "cell_type": "markdown",
   "id": "30888afe-c7ce-458d-9397-2af998dd2437",
   "metadata": {},
   "source": [
    "## Expression\n",
    "Much like in math, an _expression_ is a bit of code that _evaluates to a value_.  \n",
    "\n",
    "## Statement\n",
    "A _statement_ is a bit of code that _does something_."
   ]
  },
  {
   "cell_type": "code",
   "execution_count": null,
   "id": "100348e7-d9a8-4ac7-90ad-ee5e57025a24",
   "metadata": {},
   "outputs": [],
   "source": [
    "# Expression\n",
    "1 + 1\n",
    "\n",
    "# Statement\n",
    "x = 1 + 1"
   ]
  },
  {
   "cell_type": "markdown",
   "id": "a65812ac-ffe0-4988-a78d-83b1f64f3457",
   "metadata": {},
   "source": [
    "## Literal\n",
    "\n",
    "A _literal_ is some notation that denotes a fixed value.  \n",
    "\n",
    "## Variable\n",
    "\n",
    "A _variable_ is a symbol that can refer to a value."
   ]
  },
  {
   "cell_type": "code",
   "execution_count": 1,
   "id": "de9ab2df-1b82-4428-a4e6-e3824f8ed123",
   "metadata": {},
   "outputs": [],
   "source": [
    "# Number literals\n",
    "1\n",
    "2.3\n",
    "5.\n",
    "\n",
    "# String literals\n",
    "\"I am a string\"\n",
    "\"Why do I have three subjects this intersession\"\n",
    "\n",
    "# Boolean literals\n",
    "True\n",
    "False \n",
    "\n",
    "# Assigning a boolean literal to a variable\n",
    "x = True"
   ]
  },
  {
   "cell_type": "markdown",
   "id": "13eef7ea-0086-4a18-97e8-f0299f6e8f0c",
   "metadata": {},
   "source": [
    "## Iterable\n",
    "\n",
    "An _iterable_ is an collection of values that can return its members one at a time. You can run for loops over iterables. Strings and lists are intuitive examples of iterables, but other significant iterables include dictionaries, tuples, sets, and ranges.  \n",
    "\n",
    "## Object\n",
    "\n",
    "This one's a bit tricky. Think of an _object_ in programming like anything you would call an object in real life. For example, I would call a _car_ an object. It's a \"thing\" that _has characteristics_ (properties) and can _do stuff_ (methods). A car has properties (its color, max speed, model, brand, etc.) and it can do stuff (drive, open doors, consume gas, etc).  \n",
    "\n",
    "Python has a lot of objects. For example, a _list_ has characteristics (its length, the elements within it, etc.) and it can do stuff (add elements to itself, etc). The tricky part in Python is that almost _everything_ is an object, including the \"basic\" data types like numbers and strings. This is only a problem because other programming languages have \"primitive\" data types that are not \"objects\" in the programming sense of the word.  \n",
    "\n",
    "You can define your own objects by writing the \"blueprint\" for your object. This blueprint is called a _class_. This is a somewhat intermediate topic, so it's alright if you defer trying to understand this.\n",
    "\n",
    "## Constructor\n",
    "\n",
    "A _constructor_ is a function that instantiates an object. The constructors we use often (int, str, float) turn a value of one type into a value of another type but with the same underlying meaning (e.g., int(\"3\") turns the string \"3\" into the int 3). The word \"constructor\" has a more specific meaning when you get into classes and objects, but we can leave that on the side for now."
   ]
  },
  {
   "cell_type": "code",
   "execution_count": null,
   "id": "d11da5b8-992b-4fd1-b9f5-5c83f48aa2d6",
   "metadata": {},
   "outputs": [],
   "source": []
  }
 ],
 "metadata": {
  "kernelspec": {
   "display_name": "Python 3",
   "language": "python",
   "name": "python3"
  },
  "language_info": {
   "codemirror_mode": {
    "name": "ipython",
    "version": 3
   },
   "file_extension": ".py",
   "mimetype": "text/x-python",
   "name": "python",
   "nbconvert_exporter": "python",
   "pygments_lexer": "ipython3",
   "version": "3.9.5"
  }
 },
 "nbformat": 4,
 "nbformat_minor": 5
}
