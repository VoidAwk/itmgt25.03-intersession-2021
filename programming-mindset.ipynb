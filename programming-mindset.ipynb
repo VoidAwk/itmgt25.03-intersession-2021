{
 "cells": [
  {
   "cell_type": "markdown",
   "id": "f9aa0704-5720-4ca7-ab22-7596d6804da6",
   "metadata": {},
   "source": [
    "# Programming Mindset\n",
    "\n",
    "This notebook contains tips and tricks to help you think like a programmer."
   ]
  },
  {
   "cell_type": "markdown",
   "id": "ac4baeaa-e3c5-479a-934f-2350bf60ccd2",
   "metadata": {},
   "source": [
    "## Pseudocoding\n",
    "\n",
    "One of the great challenges of leaning to program is learning how to express yourself in code. To be a programming newcomer is, quite literally, to try to speak a language in which you are not fluent.  \n",
    "\n",
    "The way to address this fluency problem is _pseudocoding_. Pseudocoding is the process of writing out the logic of your program in a language (such as English) that you understand. This does not make you any less of a programmer: pseudocoding is an industry-accepted way of making sure that your program logic is sound.  \n",
    "\n",
    "The following cell demonstrates pseudocoding."
   ]
  },
  {
   "cell_type": "code",
   "execution_count": 8,
   "id": "dbff467a-afbd-495e-9874-db7d559175af",
   "metadata": {},
   "outputs": [
    {
     "name": "stdout",
     "output_type": "stream",
     "text": [
      "*****\n",
      "*****\n",
      "*****\n",
      "*****\n",
      "*****\n",
      "\n"
     ]
    }
   ],
   "source": [
    "'''\n",
    "Problem:\n",
    "Write a function that takes a positive integer as an argument and returns a string of a square of asterisks whose sides have as many asterisks as the indicated number.\n",
    "'''\n",
    "\n",
    "'''\n",
    "Pseudocode\n",
    "\n",
    "Define the function, accept argument \"side length\"\n",
    "    Prepare the output string\n",
    "    Loop to build rows of the square\n",
    "        Make an empty string for the row\n",
    "        Loop to add asterisks to the row\n",
    "            Add asterisk to row\n",
    "        Add the row string to the final output string\n",
    "        Add a new line character to the end of the string\n",
    "    Return the output string\n",
    "'''\n",
    "\n",
    "# Python translation\n",
    "def square(side_length):\n",
    "    output = \"\"\n",
    "    for i in range(side_length):\n",
    "        row = \"\"\n",
    "        for j in range(side_length):\n",
    "            row += \"*\"\n",
    "        output += row\n",
    "        output += \"\\n\"\n",
    "    return output\n",
    "    \n",
    "print(square(5))"
   ]
  },
  {
   "cell_type": "markdown",
   "id": "de258b9b-499e-4817-90d7-75084931b273",
   "metadata": {},
   "source": [
    "Once you become more familiar with Python, you will gain a sense of fluency for Python itself. Pseudocoding will not be as necessary, but it will still be very helpful for complex algorithms."
   ]
  },
  {
   "cell_type": "markdown",
   "id": "90e4ff6a-03b9-4cc2-be99-df70f1b829d5",
   "metadata": {},
   "source": [
    "## Chaining expressions together\n",
    "\n",
    "Python is a very expressive language, but to unlock its expressiveness, you need to be comfortable with the idea of \"chaining\" expressions together.  \n",
    "\n",
    "What does it mean to chain expressions together? Remember that _expressions_ are bits of code that return a value. In other words, if you can think of expressions as the values that they return, then you can immediately perform other operations on them.  \n",
    "\n",
    "To demonstrate, let's re-write the function in fewer lines of code. "
   ]
  },
  {
   "cell_type": "code",
   "execution_count": 11,
   "id": "120da2f7-5be8-43b4-8e11-ff4362d7aac4",
   "metadata": {},
   "outputs": [
    {
     "name": "stdout",
     "output_type": "stream",
     "text": [
      "*****\n",
      "*****\n",
      "*****\n",
      "*****\n",
      "*****\n",
      "\n"
     ]
    }
   ],
   "source": [
    "def square(side_length):\n",
    "    output = \"\"\n",
    "    for i in range(side_length):\n",
    "        # Instead of having another loop, I chain the main asterisk body of the row with the newline character. \n",
    "        # This significantly reduces the number of lines.\n",
    "        output += \"*\" * side_length + \"\\n\"\n",
    "    return output\n",
    "\n",
    "print(square(5))"
   ]
  },
  {
   "cell_type": "markdown",
   "id": "b51611c7-d5eb-463e-82c2-c339554ae4b5",
   "metadata": {},
   "source": [
    "You may find that many lines of code can be compressed into much fewer lines of code with good expression chaining.  \n",
    "\n",
    "Just to demonstrate how far we can take this concept, let's re-write the square function in a single line of code. (I use advanced concepts here; this is just for demonstration.)"
   ]
  },
  {
   "cell_type": "code",
   "execution_count": 12,
   "id": "6981dba8-3366-478b-b3b6-2695888aca2c",
   "metadata": {},
   "outputs": [
    {
     "name": "stdout",
     "output_type": "stream",
     "text": [
      "*****\n",
      "*****\n",
      "*****\n",
      "*****\n",
      "*****\n"
     ]
    }
   ],
   "source": [
    "square = lambda side_length: \"\\n\".join([\"*\" * side_length for i in range(side_length)])\n",
    "    \n",
    "print(square(5))"
   ]
  },
  {
   "cell_type": "markdown",
   "id": "3edc2c7d-ae98-49c4-89fa-89a89d1d0844",
   "metadata": {},
   "source": [
    "This may seem clever, but which of the compacted functions is better? The first compaction is better because it is more readable. The second one may be clever, but it is approaching unreadability.   \n",
    "\n",
    "If you have to choose between a clever compaction of your code and making your code readable, choose to make your code readable!"
   ]
  },
  {
   "cell_type": "code",
   "execution_count": null,
   "id": "71e8ba29-fa1d-4857-aaa5-25c62d46e912",
   "metadata": {},
   "outputs": [],
   "source": []
  }
 ],
 "metadata": {
  "kernelspec": {
   "display_name": "Python 3",
   "language": "python",
   "name": "python3"
  },
  "language_info": {
   "codemirror_mode": {
    "name": "ipython",
    "version": 3
   },
   "file_extension": ".py",
   "mimetype": "text/x-python",
   "name": "python",
   "nbconvert_exporter": "python",
   "pygments_lexer": "ipython3",
   "version": "3.9.5"
  }
 },
 "nbformat": 4,
 "nbformat_minor": 5
}
