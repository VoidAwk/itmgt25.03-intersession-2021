{
 "cells": [
  {
   "cell_type": "markdown",
   "id": "db667823-9d37-4ec8-8f96-b6b17a20e03f",
   "metadata": {},
   "source": [
    "# Alternative Learning Sources\n",
    "Joe Ilagan\n",
    "\n",
    "## Socratica\n",
    "\n",
    "Socratica is a truly excellent YouTube channel that teaches programming and programming-related content. Her dry humor and concise delivery of content makes her channel one of my personal favorites to recommend to beginners.  \n",
    "\n",
    "Her Python series can be found at https://www.youtube.com/watch?v=bY6m6_IIN94&list=PLi01XoE8jYohWFPpC17Z-wWhPOSuh8Er-.\n",
    "\n",
    "## Corey Schafer\n",
    "\n",
    "Corey Schafer is a programmer and YouTuber who specializes in comprehensive Python tutorials. His videos are (much) longer than Socratica's, but he goes into more depth. If you find yourself with the time to watch his videos and the drive to attain mastery of Python, you may want to give his channel a watch.  \n",
    "\n",
    "His Python series can be found at https://www.youtube.com/watch?v=YYXdXT2l-Gg&list=PL-osiE80TeTskrapNbzXhwoFUiLCjGgY7.  \n",
    "\n",
    "## StackOverflow\n",
    "\n",
    "StackOverflow is a forum where programmers congregate to post their problems and answer others' problems. It has become a critical knowledge hub for programming in general, and if you've ever searched for an error, you have most likely ended up on StackOverflow at some point. I honestly cannot justify calling StackOverflow an \"alternative\" learning source because of how pervasive it is in this field. Learn to love this site."
   ]
  },
  {
   "cell_type": "code",
   "execution_count": null,
   "id": "111b85a6-3143-4885-8458-c7b36f834801",
   "metadata": {},
   "outputs": [],
   "source": []
  }
 ],
 "metadata": {
  "kernelspec": {
   "display_name": "Python 3",
   "language": "python",
   "name": "python3"
  },
  "language_info": {
   "codemirror_mode": {
    "name": "ipython",
    "version": 3
   },
   "file_extension": ".py",
   "mimetype": "text/x-python",
   "name": "python",
   "nbconvert_exporter": "python",
   "pygments_lexer": "ipython3",
   "version": "3.9.5"
  }
 },
 "nbformat": 4,
 "nbformat_minor": 5
}
