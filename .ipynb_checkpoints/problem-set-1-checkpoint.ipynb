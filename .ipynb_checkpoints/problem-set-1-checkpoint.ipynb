{
 "cells": [
  {
   "cell_type": "markdown",
   "id": "56312606-8a8a-4880-b1b2-963a5a6543b1",
   "metadata": {},
   "source": [
    "# Problem Set 1\n"
   ]
  },
  {
   "cell_type": "markdown",
   "id": "b25562bf-ed13-4e52-b003-fdbf20389d78",
   "metadata": {},
   "source": [
    "## Problem 1.1\n",
    "## Caesar Cipher\n",
    "\n",
    "A _cipher_ is a way of disguising a message by encoding it.  \n",
    "\n",
    "One of the simplest ciphers is a \"shift cipher\" known as the _Caesar cipher_. The way it works is very simple.  \n",
    "\n",
    "1. Start with a message, such as \"ATTACK AT DAWN\".\n",
    "2. Choose a number, such as 3.\n",
    "3. _Shift_ all letters in the message to the right by the chosen number. In this case, shifting all letters in \"ATTACK AT DAWN\" by 3 results in the message \"DWWDFN DW GDZQ\".\n",
    "\n",
    "Write a function that applies the Caesar cipher to a message and _returns_ the result.  \n",
    "\n",
    "For full credit:\n",
    "\n",
    "1. The function must ignore spaces.\n",
    "2. The function must be able to \"wrap around\" if it reaches the end of the alphabet. (e.g., shifting Z by 1 should result in A, shifting Z by 2 should result in B, etc.)\n",
    "\n",
    "For your convenience:\n",
    "1. Assume that all letters will be uppercase."
   ]
  },
  {
   "cell_type": "code",
   "execution_count": null,
   "id": "23e3727f-731e-4c1c-a178-49b34dd60bc9",
   "metadata": {},
   "outputs": [],
   "source": []
  },
  {
   "cell_type": "markdown",
   "id": "2eb38a6d-f717-470e-af0d-38e0cdaec599",
   "metadata": {},
   "source": [
    "## Problem 1.2\n",
    "## Vigenere Cipher\n",
    "\n",
    "The Caesar cipher is very easy to crack. The _Vigenere cipher_ is an extension to the Caesar cipher that makes it a little more difficult to crack. This is how it works:\n",
    "\n",
    "1. Start with a message, such as \"MY MESSAGE\".\n",
    "2. Choose a keyphrase, such as \"KEY\".\n",
    "3. Repeat the keyphrase until it matches the length of the message. In this case, extend \"KEY\" to \"KEYKEYKEYK\". This should yield an implicit 1-1 mapping between letters in the message to letters in the key.\n",
    "4. Convert all letters in the key to their number values (in this particular case, A => 0, Z => 25, etc.). Shift the letters in the message to the right by the number value of the respective letter in the extended key. In this case, applying the cipher yields the encrypted message \"WC KOWQKKC\".\n",
    "\n",
    "For full credit:\n",
    "1. Spaces in the message count as characters and thus count as additional message length for the purposes of key extension, but they are to be ignored when applying the cipher to the message.\n",
    "\n",
    "For your convenience:\n",
    "1. You are allowed to call your Caesar cipher function.\n",
    "2. Assume that all letters will be uppercase.\n",
    "3. Assume that the key will always be the same length or shorter than the message.\n",
    "4. Assume that the message will only ever consist of uppercase letters and spaces."
   ]
  },
  {
   "cell_type": "code",
   "execution_count": null,
   "id": "ccf5ef3d-3865-492e-a155-9915f53c259f",
   "metadata": {},
   "outputs": [],
   "source": []
  }
 ],
 "metadata": {
  "kernelspec": {
   "display_name": "Python 3",
   "language": "python",
   "name": "python3"
  },
  "language_info": {
   "codemirror_mode": {
    "name": "ipython",
    "version": 3
   },
   "file_extension": ".py",
   "mimetype": "text/x-python",
   "name": "python",
   "nbconvert_exporter": "python",
   "pygments_lexer": "ipython3",
   "version": "3.9.5"
  }
 },
 "nbformat": 4,
 "nbformat_minor": 5
}
