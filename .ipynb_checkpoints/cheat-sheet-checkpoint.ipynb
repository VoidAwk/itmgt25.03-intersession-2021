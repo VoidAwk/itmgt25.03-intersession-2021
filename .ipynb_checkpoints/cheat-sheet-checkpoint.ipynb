{
 "cells": [
  {
   "cell_type": "markdown",
   "id": "9716856f-7fd8-461c-aa6c-3e8932d3e648",
   "metadata": {},
   "source": [
    "# Cheat Sheet\n",
    "\n",
    "This cheat sheet is a compact compilation of Python concepts after Exercise Set 1. (Exercise Set 1 is extremely foundational and should be internalized.)  \n",
    "\n",
    "Most of this notebook will be in pseudocode. It is meant to show you how things are written. It is not meant to be a functional notebook."
   ]
  },
  {
   "cell_type": "markdown",
   "id": "74badfc0-8eb6-4efa-aca1-42587b095c19",
   "metadata": {},
   "source": [
    "## If block"
   ]
  },
  {
   "cell_type": "code",
   "execution_count": null,
   "id": "ebd9c5b3-031c-4934-948d-27dd1c315735",
   "metadata": {},
   "outputs": [],
   "source": [
    "if [ condition ]:\n",
    "    do something\n",
    "elif [ condition 2 ]:\n",
    "    do something else\n",
    "elif [ condition 3 ]:\n",
    "    do something else\n",
    "else:\n",
    "    do something"
   ]
  },
  {
   "cell_type": "markdown",
   "id": "0826f914-2337-4599-b827-7ec1ff89b379",
   "metadata": {},
   "source": [
    "## While loop"
   ]
  },
  {
   "cell_type": "code",
   "execution_count": null,
   "id": "7dbae464-2dbb-4736-9110-1b18e3210214",
   "metadata": {},
   "outputs": [],
   "source": [
    "while [ condition ]:\n",
    "    do something"
   ]
  },
  {
   "cell_type": "markdown",
   "id": "63cdc146-e3e4-41a0-8927-b3b95dd03c4f",
   "metadata": {},
   "source": [
    "## For loop"
   ]
  },
  {
   "cell_type": "code",
   "execution_count": null,
   "id": "02152f65-713b-40ed-92ef-60cec73afacf",
   "metadata": {},
   "outputs": [],
   "source": [
    "for counter_variable in [ iterable ]:\n",
    "    do something"
   ]
  }
 ],
 "metadata": {
  "kernelspec": {
   "display_name": "Python 3",
   "language": "python",
   "name": "python3"
  },
  "language_info": {
   "codemirror_mode": {
    "name": "ipython",
    "version": 3
   },
   "file_extension": ".py",
   "mimetype": "text/x-python",
   "name": "python",
   "nbconvert_exporter": "python",
   "pygments_lexer": "ipython3",
   "version": "3.9.5"
  }
 },
 "nbformat": 4,
 "nbformat_minor": 5
}
