{
 "cells": [
  {
   "cell_type": "markdown",
   "id": "9716856f-7fd8-461c-aa6c-3e8932d3e648",
   "metadata": {},
   "source": [
    "# Cheat Sheet\n",
    "\n",
    "by Joe Ilagan\n",
    "\n",
    "This cheat sheet is a compact compilation of Python concepts after Concept Set 1. (Concept Set 1 is extremely foundational and should be internalized.)  \n",
    "\n",
    "Most of this notebook will be in pseudocode. It is meant to show you how things are written. It is not meant to be a functional notebook."
   ]
  },
  {
   "cell_type": "markdown",
   "id": "74badfc0-8eb6-4efa-aca1-42587b095c19",
   "metadata": {},
   "source": [
    "## If block"
   ]
  },
  {
   "cell_type": "code",
   "execution_count": null,
   "id": "ebd9c5b3-031c-4934-948d-27dd1c315735",
   "metadata": {},
   "outputs": [],
   "source": [
    "if [ condition ]:\n",
    "    do something\n",
    "elif [ condition 2 ]:\n",
    "    do something else\n",
    "elif [ condition 3 ]:\n",
    "    do something else\n",
    "else:\n",
    "    do something"
   ]
  },
  {
   "cell_type": "markdown",
   "id": "0826f914-2337-4599-b827-7ec1ff89b379",
   "metadata": {},
   "source": [
    "## While loop"
   ]
  },
  {
   "cell_type": "code",
   "execution_count": null,
   "id": "7dbae464-2dbb-4736-9110-1b18e3210214",
   "metadata": {},
   "outputs": [],
   "source": [
    "while [ condition ]:\n",
    "    do something"
   ]
  },
  {
   "cell_type": "markdown",
   "id": "63cdc146-e3e4-41a0-8927-b3b95dd03c4f",
   "metadata": {},
   "source": [
    "## For loop"
   ]
  },
  {
   "cell_type": "code",
   "execution_count": null,
   "id": "02152f65-713b-40ed-92ef-60cec73afacf",
   "metadata": {},
   "outputs": [],
   "source": [
    "for counter_variable in [ iterable ]:\n",
    "    do something"
   ]
  },
  {
   "cell_type": "markdown",
   "id": "7530e74b-27e5-42f6-bcf1-2e884a6067f8",
   "metadata": {},
   "source": [
    "## Functions"
   ]
  },
  {
   "cell_type": "code",
   "execution_count": null,
   "id": "dd2deaf6-0b65-4396-89e8-e67ca3f6f2a9",
   "metadata": {},
   "outputs": [],
   "source": [
    "def [ function name ]([ arguments ]):\n",
    "    # do stuff\n",
    "    pass"
   ]
  },
  {
   "cell_type": "markdown",
   "id": "304755db-16d5-40d4-af04-d0b3125e5f13",
   "metadata": {},
   "source": [
    "## Intermediate Data Types"
   ]
  },
  {
   "cell_type": "code",
   "execution_count": null,
   "id": "e36928d4-589e-498b-bdda-49c3f0876a59",
   "metadata": {},
   "outputs": [],
   "source": [
    "# Values can be objects too.\n",
    "my_list = [[ elements ]]\n",
    "my_dictionary = {[ keys ]: [ values ]}\n",
    "my_tuple = ([ elements ])\n",
    "my_set = {[ elements ]}"
   ]
  },
  {
   "cell_type": "markdown",
   "id": "0f2e023c-cb1c-4a5c-a86a-11fab2afca07",
   "metadata": {},
   "source": [
    "## Files"
   ]
  },
  {
   "cell_type": "code",
   "execution_count": null,
   "id": "7ffd3d48-bcf5-464c-bf2d-cc2e4f788a82",
   "metadata": {},
   "outputs": [],
   "source": [
    "with open([ file name ], [ file mode ]) as [ alias ]:\n",
    "    # Do stuff\n",
    "    pass"
   ]
  },
  {
   "cell_type": "markdown",
   "id": "8fa0b272-141b-428d-9f13-2ca6c1c804f5",
   "metadata": {},
   "source": [
    "## CSVs and JSONs"
   ]
  },
  {
   "cell_type": "code",
   "execution_count": null,
   "id": "3862d1d0-f5c9-4265-9aa3-34d74b773e02",
   "metadata": {},
   "outputs": [],
   "source": [
    "# Pattern for reading CSVs\n",
    "import csv\n",
    "data = []\n",
    "with open([ file name ], [ file mode ]) as [ alias ]:\n",
    "    reader = csv.reader([ alias ])\n",
    "    headers = next(reader)\n",
    "    for row in reader:\n",
    "        data.append(row)\n",
    "        \n",
    "# Pattern for reading JSONs\n",
    "import json\n",
    "with open([ file name ], [ file mode ]) as [ alias ]:\n",
    "    data = json.load([ alias ])"
   ]
  }
 ],
 "metadata": {
  "kernelspec": {
   "display_name": "Python 3",
   "language": "python",
   "name": "python3"
  },
  "language_info": {
   "codemirror_mode": {
    "name": "ipython",
    "version": 3
   },
   "file_extension": ".py",
   "mimetype": "text/x-python",
   "name": "python",
   "nbconvert_exporter": "python",
   "pygments_lexer": "ipython3",
   "version": "3.9.5"
  }
 },
 "nbformat": 4,
 "nbformat_minor": 5
}
