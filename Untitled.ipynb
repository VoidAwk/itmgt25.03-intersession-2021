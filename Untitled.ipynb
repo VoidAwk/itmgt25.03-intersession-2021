{
 "cells": [
  {
   "cell_type": "code",
   "execution_count": 10,
   "id": "1bb41937-3686-43d8-b2d8-fc542ae4d8f8",
   "metadata": {},
   "outputs": [],
   "source": [
    "test = {f'key{i}': f'value{i}' for i in range(10)}\n",
    "import json\n",
    "with open(\"test.json\", \"w\") as f:\n",
    "    json.dump(test, f, indent=4)"
   ]
  },
  {
   "cell_type": "code",
   "execution_count": 13,
   "id": "a51bc027-3c21-4821-9fe9-0b2fd176305c",
   "metadata": {},
   "outputs": [
    {
     "name": "stdout",
     "output_type": "stream",
     "text": [
      "None\n"
     ]
    }
   ],
   "source": [
    "my_list = list(range(10))\n",
    "\n",
    "my_list = my_list.append(10)\n",
    "\n",
    "print(my_list)"
   ]
  },
  {
   "cell_type": "code",
   "execution_count": 7,
   "id": "50918d61-e49f-4a3c-a963-6ef20c66cedd",
   "metadata": {},
   "outputs": [
    {
     "data": {
      "text/plain": [
       "1"
      ]
     },
     "execution_count": 7,
     "metadata": {},
     "output_type": "execute_result"
    }
   ],
   "source": [
    "removed_element"
   ]
  },
  {
   "cell_type": "code",
   "execution_count": 13,
   "id": "f8a4054a-b7cf-4749-9ede-324339048f97",
   "metadata": {},
   "outputs": [
    {
     "data": {
      "text/plain": [
       "'WC WIQCEEO'"
      ]
     },
     "execution_count": 13,
     "metadata": {},
     "output_type": "execute_result"
    }
   ],
   "source": [
    "def caesar_cipher(message, shift):\n",
    "    # Set up variables for later use\n",
    "    alphabet = [chr(i) for i in range(65, 65+26)]\n",
    "    output = \"\"\n",
    "    # Cipher implementation\n",
    "    for letter in message:\n",
    "        if letter not in alphabet:\n",
    "            output += letter\n",
    "            continue\n",
    "        letter = (ord(letter) - 65) + shift\n",
    "        letter = letter % 26\n",
    "        letter = chr(letter + 65)\n",
    "        output += letter\n",
    "    return output\n",
    "\n",
    "def vigenere_cipher(message, keyword):\n",
    "    # Set up variables for later use\n",
    "    alphabet = [chr(i) for i in range(65, 65+26)]\n",
    "    extended_keyword = \"\"\n",
    "    output = \"\"\n",
    "    # Extend the keyword\n",
    "    for i in range(len(message)):\n",
    "        extended_keyword += keyword[i % len(keyword)]\n",
    "    # Cipher implementation\n",
    "    for message_letter, keyword_letter in zip(message, extended_keyword):\n",
    "        if message_letter not in alphabet:\n",
    "            output += message_letter\n",
    "            continue\n",
    "        output += caesar_cipher(message_letter, ord(keyword_letter) - 65)\n",
    "    return output\n",
    "\n",
    "vigenere_cipher(\"MY MESSAGE\", \"KEY\")\n",
    "    \n",
    "    "
   ]
  },
  {
   "cell_type": "code",
   "execution_count": 1,
   "id": "961774d6-12f0-413b-98f4-1a8a668a5bef",
   "metadata": {},
   "outputs": [
    {
     "data": {
      "text/plain": [
       "{'key1': 'value1', 'key2': 'value2-1', 'key3': 'value3'}"
      ]
     },
     "execution_count": 1,
     "metadata": {},
     "output_type": "execute_result"
    }
   ],
   "source": [
    "main_dictionary = {\"key1\": \"value1\", \"key2\": \"value2\"}\n",
    "main_dictionary.update({\"key2\": \"value2-1\", \"key3\": \"value3\"})\n",
    "main_dictionary"
   ]
  },
  {
   "cell_type": "code",
   "execution_count": 3,
   "id": "8d5c132d-b79b-4a03-a41e-abcee5a5f730",
   "metadata": {},
   "outputs": [
    {
     "data": {
      "text/plain": [
       "{'key0': 'value0',\n",
       " 'key1': 'value1',\n",
       " 'key2': 'value2',\n",
       " 'key3': 'value3',\n",
       " 'key4': 'value4',\n",
       " 'key5': 'value5',\n",
       " 'key6': 'value6',\n",
       " 'key7': 'value7',\n",
       " 'key8': 'value8',\n",
       " 'key9': 'value9',\n",
       " 'key10': 'value10'}"
      ]
     },
     "execution_count": 3,
     "metadata": {},
     "output_type": "execute_result"
    }
   ],
   "source": [
    "main_dictionary = {f\"key{i}\": f\"value{i}\" for i in range(10)}\n",
    "main_dictionary[\"key10\"] = \"value10\"\n",
    "main_dictionary"
   ]
  },
  {
   "cell_type": "code",
   "execution_count": 4,
   "id": "6264a3e0-f21a-4cd4-b0e1-c8889b27fe37",
   "metadata": {},
   "outputs": [
    {
     "data": {
      "text/plain": [
       "{1, 2, 3, 4}"
      ]
     },
     "execution_count": 4,
     "metadata": {},
     "output_type": "execute_result"
    }
   ],
   "source": [
    "my_set = {1, 2, 3}\n",
    "my_set_2 = my_set\n",
    "my_set_2.add(4)\n",
    "my_set"
   ]
  },
  {
   "cell_type": "code",
   "execution_count": 1,
   "id": "34fe74f8-ae43-4cb4-a48e-99c289f6005c",
   "metadata": {},
   "outputs": [],
   "source": [
    "my_file = open(\"test.txt\", \"w\")\n",
    "\n",
    "my_file.write(\"Hehehehe\")\n",
    "\n",
    "my_file.close()"
   ]
  },
  {
   "cell_type": "code",
   "execution_count": 5,
   "id": "3e784e3c-3312-4880-9568-d53e09835268",
   "metadata": {},
   "outputs": [
    {
     "data": {
      "text/plain": [
       "1592.7407430000003"
      ]
     },
     "execution_count": 5,
     "metadata": {},
     "output_type": "execute_result"
    }
   ],
   "source": [
    "simple_interest = lambda principal, interest_rate, time_elapsed: principal * interest_rate * time_elapsed\n",
    "\n",
    "simple_interest(10_000, 0.03, 5)\n",
    "\n",
    "def compound_interest(principal, interest_rate, time_elapsed):\n",
    "    repayable = principal\n",
    "    for i in range(time_elapsed):\n",
    "        repayable += repayable * interest_rate\n",
    "    return repayable - principal\n",
    "\n",
    "compound_interest(10000, 0.03, 5)"
   ]
  },
  {
   "cell_type": "code",
   "execution_count": 9,
   "id": "b6621b48-4722-4d80-b25e-5783123f13ab",
   "metadata": {},
   "outputs": [
    {
     "name": "stdout",
     "output_type": "stream",
     "text": [
      "9 -284.59212420154654\n"
     ]
    }
   ],
   "source": [
    "counter = 0\n",
    "principal = 10_000\n",
    "s_ir = 0.09\n",
    "c_ir = 0.07\n",
    "while True:\n",
    "    counter += 1\n",
    "    diff = simple_interest(principal, s_ir, counter) - compound_interest(principal, c_ir, counter)\n",
    "    if diff < 0:\n",
    "        break\n",
    "print(counter, diff)"
   ]
  },
  {
   "cell_type": "code",
   "execution_count": null,
   "id": "f05ea3c1-2e15-4cce-9e2c-7306de02594a",
   "metadata": {},
   "outputs": [],
   "source": []
  }
 ],
 "metadata": {
  "kernelspec": {
   "display_name": "Python 3",
   "language": "python",
   "name": "python3"
  },
  "language_info": {
   "codemirror_mode": {
    "name": "ipython",
    "version": 3
   },
   "file_extension": ".py",
   "mimetype": "text/x-python",
   "name": "python",
   "nbconvert_exporter": "python",
   "pygments_lexer": "ipython3",
   "version": "3.9.5"
  }
 },
 "nbformat": 4,
 "nbformat_minor": 5
}
