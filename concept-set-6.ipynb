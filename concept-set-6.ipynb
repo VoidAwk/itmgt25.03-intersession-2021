{
 "cells": [
  {
   "cell_type": "markdown",
   "id": "36f01fca-c4ac-463b-a2b1-2ef8c84cc44b",
   "metadata": {},
   "source": [
    "# Concept Set 6\n",
    "## Topic: NumPy and Pandas\n",
    "\n",
    "by Joe Ilagan\n",
    "\n",
    "This concept set is meant for people who have no experience with programming at all. If you have experience with programming, you may ignore the concept sets that tackle topics you've mastered."
   ]
  },
  {
   "cell_type": "markdown",
   "id": "b2339f55-85ac-4e73-a965-16ddbfb743b7",
   "metadata": {},
   "source": [
    "### 6.1: NumPy and Pandas\n",
    "\n",
    "NumPy (henceforth `numpy`) and Pandas (henceforth `pandas`) are two of the most important libraries in Python for working with data.  \n",
    "\n",
    "They are not standard libraries. This means that you have to install them through the Anaconda navigator. They come pre-installed in Google Colab environments.  \n",
    "\n",
    "#### numpy\n",
    "\n",
    "Source: https://numpy.org/doc/stable/user/whatisnumpy.html\n",
    "\n",
    "`numpy` is \"the fundamental package for scientific computing in Python.\" Many other scientific computing packages have `numpy` as a dependency because of its `array` object.  \n",
    "\n",
    "The `numpy array` is similar to a vanilla Python list: it is a multi-dimensional, ordered collection of values. However, it differs from lists in some critical ways:  \n",
    "\n",
    "1. Arrays in `numpy` are of a fixed size. Lists in Python are dynamically sized.  \n",
    "2. Arrays can only contain a single data type. Lists in Python can contain many different data types.  \n",
    "\n",
    "Given these restrictions, why use arrays over lists? When they can be used, arrays are _significantly_ faster than lists. The authors of the `numpy` package made use of several optimizations (such as a C implementation and parallelization) to achieve this performance. The performance difference between arrays and lists is so ridiculously large that Python would simply not be competitive as a data science language without `numpy`.  \n",
    "\n",
    "#### pandas\n",
    "\n",
    "Source: https://pandas.pydata.org/about/index.html  \n",
    "\n",
    "`pandas` is a popular package for data analysis in Python. The focal point of `pandas` is the `DataFrame` object, which you may think of as an object that manages tabular data.  \n",
    "\n",
    "The `DataFrame` object is a flexible, fast, and powerful way to transform tabular data. Though it has advanced features, its basic interface is easy to use. For example, if we were to read a CSV file in `pandas`, we would simply need to load it into a `DataFrame` as such:  \n",
    "\n",
    "`import pandas as pd`  \n",
    "`df = pd.read_csv(file_path)`  \n",
    "\n",
    "`pandas` does have some limitations:  \n",
    "1. It is not suitable for \"big data\", which is any data that you need more than one computer to process properly.  \n",
    "2. It is a large library (in terms of file size). Simple data analysis is probably better served with standard file processing techniques if you use separate virtual environments per project (which, to be honest, should not be a concern in this class).  \n",
    "\n",
    "Regardless, `pandas` remains a favorite of data scientists today. It is an excellent library for non-trivial data analysis.  "
   ]
  },
  {
   "cell_type": "markdown",
   "id": "7c7fa732-2ef4-41f7-9d6b-f67702564998",
   "metadata": {},
   "source": [
    "### Checkpoint\n",
    "\n",
    "Install `numpy` and `pandas`. If you're using Anaconda, you can do this from the navigator. Make sure the cell below runs with no errors."
   ]
  },
  {
   "cell_type": "code",
   "execution_count": null,
   "id": "e07eefa5-4e08-4c60-a3b0-4d2b77821576",
   "metadata": {},
   "outputs": [],
   "source": [
    "import numpy as np\n",
    "import pandas as pd"
   ]
  }
 ],
 "metadata": {
  "kernelspec": {
   "display_name": "Python 3",
   "language": "python",
   "name": "python3"
  },
  "language_info": {
   "codemirror_mode": {
    "name": "ipython",
    "version": 3
   },
   "file_extension": ".py",
   "mimetype": "text/x-python",
   "name": "python",
   "nbconvert_exporter": "python",
   "pygments_lexer": "ipython3",
   "version": "3.9.5"
  }
 },
 "nbformat": 4,
 "nbformat_minor": 5
}
