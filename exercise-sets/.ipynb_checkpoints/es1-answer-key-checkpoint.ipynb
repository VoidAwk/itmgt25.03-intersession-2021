{
 "cells": [
  {
   "cell_type": "markdown",
   "id": "4d6dd70e-91a7-427a-8f4d-46436c49ceef",
   "metadata": {},
   "source": [
    "# Exercise Set 1\n",
    "## Virus Spread Simulator\n",
    "\n",
    "by Joe Ilagan  "
   ]
  },
  {
   "cell_type": "markdown",
   "id": "51847f3c-d2a2-4b5b-888a-2db40f5c4938",
   "metadata": {},
   "source": [
    "## Brief\n",
    "\n",
    "One question people always have about programming is how it is useful in the real world. Let's put that question to rest immediately. In this exercise set, we are going to use Python to _simulate_ the spread of a virus based on how people travel.  "
   ]
  },
  {
   "cell_type": "markdown",
   "id": "f740e65e-900b-432c-bf8c-04cdf27ad660",
   "metadata": {},
   "source": [
    "## The `Person` class  \n",
    "\n",
    "We are going to create a special object, `Person`, to help us simulate a virus's spread. Think of these `Person` objects as entities that exist on a 2D spatial \"grid\" of sorts. In other words, they will have a coordinate position -- this will help us know who is exposed to whom.    \n",
    "\n",
    "What does a `Person` need for the simulation?  \n",
    "1. Whether they are infected (bool)\n",
    "2. Whether they are vaccinated (bool)\n",
    "3. Their current position on the x-axis (int)\n",
    "4. Their current position on the y-axis (int)"
   ]
  },
  {
   "cell_type": "code",
   "execution_count": 1,
   "id": "78e96c56-24d7-437f-a825-a54f2e1a1509",
   "metadata": {},
   "outputs": [],
   "source": [
    "# !\n",
    "# DO NOT EDIT THIS CELL\n",
    "# !\n",
    "\n",
    "class Person:\n",
    "    # This function\n",
    "    def __init__(self, infected, vaccinated, x, y):\n",
    "        self.infected = infected\n",
    "        self.vaccinated = vaccinated\n",
    "        self.x = x\n",
    "        self.y = y\n",
    "        \n",
    "    def __repr__(self):\n",
    "        return f'<Person infected={self.infected} vaccinated={self.vaccinated} x={self.x} y={self.y}>'"
   ]
  },
  {
   "cell_type": "markdown",
   "id": "abd4f896-5a2b-4308-8683-efd562069ae3",
   "metadata": {},
   "source": [
    "## 1.1 (1 point)\n",
    "\n",
    "Objects are instantiated from classes by calling the class name like a function. The arguments to pass to the class are the same arguments that `__init__` expects (without the special `self` argument, which is passed automatically).  \n",
    "\n",
    "Explicitly:  \n",
    "`var_name = Person(infected, vaccinated, x, y)`  \n",
    "\n",
    "First, assign the name `sample_person` to a `Person` object that is not infected, not vaccinated, and is currently at position (5, 7). Second, pass `sample_person` as an argument to `print`."
   ]
  },
  {
   "cell_type": "code",
   "execution_count": 2,
   "id": "af8156c7-0e75-43c4-ba52-cfcabe9a0710",
   "metadata": {},
   "outputs": [
    {
     "name": "stdout",
     "output_type": "stream",
     "text": [
      "<Person infected=False vaccinated=False x=5 y=7>\n"
     ]
    }
   ],
   "source": [
    "# 1.1 Cell 1\n",
    "sample_person = Person(False, False, 5, 7)\n",
    "print(sample_person)"
   ]
  },
  {
   "cell_type": "markdown",
   "id": "74fb5b83-c102-4472-bec1-b4fe608f1065",
   "metadata": {},
   "source": [
    "This should give you an idea of how classes work."
   ]
  },
  {
   "cell_type": "markdown",
   "id": "24914e94-3a58-42ee-bc74-aec78424e7f9",
   "metadata": {},
   "source": [
    "You can access an object's properties (e.g., `infected`, `vaccinated`) with the dot operator as such:  \n",
    "\n",
    "`object_name.property`  \n",
    "\n",
    "Re-assign the property `vaccinated` of `sample_person` to `True` and print `sample_person` again.  "
   ]
  },
  {
   "cell_type": "code",
   "execution_count": 3,
   "id": "b21cee7d-94dc-4ce4-abaa-07f702955121",
   "metadata": {},
   "outputs": [
    {
     "name": "stdout",
     "output_type": "stream",
     "text": [
      "<Person infected=False vaccinated=True x=5 y=7>\n"
     ]
    }
   ],
   "source": [
    "# 1.1 Cell 2\n",
    "sample_person.vaccinated = True\n",
    "print(sample_person)"
   ]
  },
  {
   "cell_type": "markdown",
   "id": "7d02ae00-6f06-4043-86fe-a2c3a2cc7e4d",
   "metadata": {},
   "source": [
    "Now that you understand how to work with objects, we can proceed to implementing the simulation."
   ]
  },
  {
   "cell_type": "markdown",
   "id": "d097cf23-869d-4ba3-bcd8-a728437020e9",
   "metadata": {},
   "source": [
    "## 1.2 (3 points)  \n",
    "\n",
    "To set up the simulation, we will need a collection of `Person` objects. We will make a function to generate such a collection.  \n",
    "\n",
    "The cell below contains an empty function `setup_simulation`. Complete it such that it returns a list of `Person` objects that adheres to the following rules:  \n",
    "\n",
    "1. The list must be of the specified length `list_length`.\n",
    "2. There must be exactly `infected_persons` `Person` objects whose `infected` property value is True.\n",
    "3. None of the `Person` objects must have a `vaccinated` property value of True.\n",
    "4. The `x` and `y` properties must be randomized between (inclusive) 1 and `max_grid_size`. Use the `random` module. Refer to Concept Set 4 if you don't know how to use libraries."
   ]
  },
  {
   "cell_type": "code",
   "execution_count": 4,
   "id": "44b85add-6c63-4446-aea8-1031044ddb49",
   "metadata": {},
   "outputs": [],
   "source": [
    "# 1.2\n",
    "import random\n",
    "\n",
    "def setup_simulation(list_length, infected_persons, max_grid_size):\n",
    "    '''\n",
    "    int, int, int => [Person]\n",
    "    '''\n",
    "    # Write code below\n",
    "    output = [Person(False, False, random.randrange(1, max_grid_size), random.randrange(1, max_grid_size)) for i in range(list_length)]\n",
    "    for i in range(infected_persons):\n",
    "        output[i].infected = True\n",
    "    return output"
   ]
  },
  {
   "cell_type": "markdown",
   "id": "6604a6e3-aab0-4e4e-89b6-8a0e74217cd3",
   "metadata": {},
   "source": [
    "## 1.3 (1 point)\n",
    "\n",
    "Use `setup_simulation` to generate a list of 5 `Person` objects with 1 infected `Person` on a grid of size 5. Assign this list to the variable `sample_simulation`. Print each of the `Person` objects in `sample_simulation`."
   ]
  },
  {
   "cell_type": "code",
   "execution_count": 5,
   "id": "801aa476-460c-424c-b8a9-e2283e692291",
   "metadata": {},
   "outputs": [
    {
     "name": "stdout",
     "output_type": "stream",
     "text": [
      "<Person infected=True vaccinated=False x=1 y=2>\n",
      "<Person infected=False vaccinated=False x=4 y=3>\n",
      "<Person infected=False vaccinated=False x=4 y=3>\n",
      "<Person infected=False vaccinated=False x=4 y=4>\n",
      "<Person infected=False vaccinated=False x=4 y=4>\n"
     ]
    }
   ],
   "source": [
    "# 1.3\n",
    "sample_simulation = setup_simulation(5, 1, 5)\n",
    "for p in sample_simulation:\n",
    "    print(p)"
   ]
  },
  {
   "cell_type": "markdown",
   "id": "44ae0ff4-72ae-47fe-b014-648345a559a2",
   "metadata": {},
   "source": [
    "## 1.4 (7 points)  \n",
    "\n",
    "Write a function `infect` that takes a list of `Person` objects called `simulation_entities` as an argument.  \n",
    "\n",
    "This function should apply the following changes to `simulation_entities`:\n",
    "1. Any uninfected and unvaccinated `Person` that shares coordinates with an infected `Person` must become infected with a 90% probability.  \n",
    "2. Any uninfected and vaccinated `Person` that shares coordinates with an infected `Person` must become infected with a 10% probability.  \n",
    "\n",
    "This function should return the modified list."
   ]
  },
  {
   "cell_type": "code",
   "execution_count": 6,
   "id": "97781751-a835-47fc-9d85-0023771070f0",
   "metadata": {},
   "outputs": [
    {
     "name": "stdout",
     "output_type": "stream",
     "text": [
      "[<Person infected=True vaccinated=False x=1 y=4>, <Person infected=False vaccinated=False x=4 y=1>, <Person infected=False vaccinated=False x=4 y=1>, <Person infected=False vaccinated=False x=3 y=4>, <Person infected=False vaccinated=False x=1 y=2>, <Person infected=False vaccinated=False x=2 y=2>, <Person infected=False vaccinated=False x=1 y=2>, <Person infected=False vaccinated=False x=4 y=2>, <Person infected=False vaccinated=False x=4 y=3>, <Person infected=False vaccinated=False x=3 y=2>, <Person infected=False vaccinated=False x=4 y=2>, <Person infected=False vaccinated=False x=3 y=4>, <Person infected=False vaccinated=False x=1 y=3>, <Person infected=False vaccinated=False x=4 y=4>, <Person infected=False vaccinated=False x=2 y=3>, <Person infected=False vaccinated=False x=3 y=3>, <Person infected=False vaccinated=False x=4 y=4>, <Person infected=False vaccinated=False x=4 y=1>, <Person infected=False vaccinated=False x=4 y=2>, <Person infected=False vaccinated=False x=1 y=2>, <Person infected=False vaccinated=False x=4 y=1>, <Person infected=False vaccinated=False x=2 y=2>, <Person infected=False vaccinated=False x=3 y=1>, <Person infected=False vaccinated=False x=1 y=2>, <Person infected=False vaccinated=False x=3 y=2>]\n"
     ]
    }
   ],
   "source": [
    "# 1.4\n",
    "import random\n",
    "\n",
    "def infect(simulation_entities):\n",
    "    '''\n",
    "    [Person] => [Person]\n",
    "    '''\n",
    "    # Write code below\n",
    "    infected_cells = []\n",
    "    for p in simulation_entities:\n",
    "        if p.infected:\n",
    "            infected_cells.append((p.x, p.y))\n",
    "    for p in simulation_entities:\n",
    "        if (p.x, p.y) in infected_cells and (not p.infected):\n",
    "            if p.vaccinated:\n",
    "                if random.random() <= 0.1:\n",
    "                    p.infected = True\n",
    "            else:\n",
    "                if random.random() <= 0.9:\n",
    "                    p.infected = True\n",
    "    return simulation_entities\n",
    "\n",
    "entities = setup_simulation(25, 1, 5)\n",
    "entities = infect(entities)\n",
    "print(entities)\n"
   ]
  },
  {
   "cell_type": "markdown",
   "id": "4588451b-c192-4a7e-8d16-3c874a5310b2",
   "metadata": {},
   "source": [
    "## 1.5 (3 points)\n",
    "\n",
    "Write a function `shuffle` that takes a list of `Person` objects called `simulation_entities` and an integer `max_grid_size` as arguments.  \n",
    "\n",
    "This function should apply the following changes to `simulation_entities`:\n",
    "1. Each person in the list should be given a new and random pair of coordinates. Each coordinate should be between 1 and `max_grid_size`.\n",
    "\n",
    "This function should return the modified list."
   ]
  },
  {
   "cell_type": "code",
   "execution_count": 7,
   "id": "2040cda4-4320-446c-900a-891d486cdb61",
   "metadata": {},
   "outputs": [],
   "source": [
    "# 1.5\n",
    "import random\n",
    "\n",
    "def shuffle(simulation_entities, max_grid_size):\n",
    "    '''\n",
    "    [Person], int => [Person]\n",
    "    '''\n",
    "    # Write code below\n",
    "    for p in simulation_entities:\n",
    "        p.x = random.randrange(1, max_grid_size)\n",
    "        p.y = random.randrange(1, max_grid_size)\n",
    "    return simulation_entities"
   ]
  },
  {
   "cell_type": "markdown",
   "id": "120e4f46-f9cf-4ae6-be77-32af4c7dc820",
   "metadata": {},
   "source": [
    "## 1.6 (5 points)\n",
    "\n",
    "Write a function `vaccinate` that takes a list of `Person` objects called `simulation_entities` and an integer `vaccinations` as arguments.  \n",
    "\n",
    "This function should apply the following changes to `simulation_entities`:\n",
    "1. Exactly `vaccinations` number of unvaccinated `Person` objects should have their vaccination properties set to True. If the number of unvaccinated `Person` objects is less than `vaccinations`, simply vaccinate the rest of the unvaccinated `Person` objects.\n",
    "\n",
    "This function should return the modified list."
   ]
  },
  {
   "cell_type": "code",
   "execution_count": 8,
   "id": "14dbfc7d-900b-4860-acc6-9edecdabb2a2",
   "metadata": {},
   "outputs": [
    {
     "name": "stdout",
     "output_type": "stream",
     "text": [
      "[<Person infected=True vaccinated=True x=2 y=2>, <Person infected=False vaccinated=True x=3 y=2>, <Person infected=False vaccinated=True x=1 y=4>, <Person infected=False vaccinated=True x=4 y=1>, <Person infected=False vaccinated=True x=1 y=1>, <Person infected=False vaccinated=False x=2 y=3>, <Person infected=False vaccinated=False x=2 y=3>, <Person infected=False vaccinated=False x=1 y=1>, <Person infected=False vaccinated=False x=3 y=2>, <Person infected=False vaccinated=False x=3 y=4>, <Person infected=False vaccinated=False x=1 y=2>, <Person infected=False vaccinated=False x=3 y=1>, <Person infected=False vaccinated=False x=4 y=1>, <Person infected=False vaccinated=False x=3 y=2>, <Person infected=False vaccinated=False x=3 y=3>, <Person infected=False vaccinated=False x=2 y=2>, <Person infected=False vaccinated=False x=3 y=3>, <Person infected=False vaccinated=False x=2 y=1>, <Person infected=False vaccinated=False x=4 y=4>, <Person infected=False vaccinated=False x=1 y=3>, <Person infected=False vaccinated=False x=3 y=1>, <Person infected=False vaccinated=False x=2 y=3>, <Person infected=False vaccinated=False x=2 y=4>, <Person infected=False vaccinated=False x=3 y=4>, <Person infected=False vaccinated=False x=2 y=1>]\n"
     ]
    }
   ],
   "source": [
    "# 1.6\n",
    "import random\n",
    "\n",
    "def vaccinate(simulation_entities, vaccinations):\n",
    "    '''\n",
    "    [Person] => [Person]\n",
    "    '''\n",
    "    # Write code below\n",
    "    unvaccinated_count = sum(1 for p in simulation_entities if not p.vaccinated)\n",
    "    if unvaccinated_count <= vaccinations:\n",
    "        for p in simulation_entities:\n",
    "            p.vaccinated = True\n",
    "        return simulation_entities\n",
    "    vaccinated = 0\n",
    "    for p in simulation_entities:\n",
    "        if not p.vaccinated:\n",
    "            p.vaccinated = True\n",
    "            vaccinated += 1\n",
    "        if vaccinated >= vaccinations:\n",
    "            break\n",
    "    return simulation_entities\n",
    "\n",
    "entities = setup_simulation(25, 1, 5)\n",
    "entities = vaccinate(entities, 5)\n",
    "print(entities)"
   ]
  },
  {
   "cell_type": "markdown",
   "id": "c53bda6c-cd22-4af9-a570-a13c2286d393",
   "metadata": {},
   "source": [
    "## 1.7 (5 points)\n",
    "\n",
    "Write a function `run_model` that takes these arguments:  \n",
    "1. list_length (int)\n",
    "2. infected_persons (int)\n",
    "3. max_grid_size (int)\n",
    "4. vaccinations (int)\n",
    "5. time_periods (int)\n",
    "\n",
    "`run_model` should generate a list of `Person` objects via the `setup_simulation` function that will then be subjected to `time_periods` rounds. Each round consists of the following:  \n",
    "1. Infection via the `infect` function.\n",
    "2. Vaccination via the `vaccinate` function. \n",
    "3. Shuffling via the `shuffle` function.\n",
    "\n",
    "Pass the appropriate arguments to the `setup_simulation`, `infect`, `vaccinate`, and `shuffle` functions.  \n",
    "\n",
    "`run_model` should return the final list of `Person` objects."
   ]
  },
  {
   "cell_type": "code",
   "execution_count": 46,
   "id": "6122aa47-2ef6-4650-aa0e-7c30ba6901cf",
   "metadata": {},
   "outputs": [
    {
     "data": {
      "text/plain": [
       "[<Person infected=True vaccinated=True x=3 y=2>,\n",
       " <Person infected=False vaccinated=True x=2 y=2>,\n",
       " <Person infected=False vaccinated=False x=4 y=3>,\n",
       " <Person infected=False vaccinated=False x=2 y=4>,\n",
       " <Person infected=False vaccinated=False x=4 y=1>,\n",
       " <Person infected=False vaccinated=False x=3 y=4>,\n",
       " <Person infected=False vaccinated=False x=4 y=2>,\n",
       " <Person infected=False vaccinated=False x=4 y=1>,\n",
       " <Person infected=False vaccinated=False x=2 y=3>,\n",
       " <Person infected=False vaccinated=False x=2 y=3>,\n",
       " <Person infected=False vaccinated=False x=1 y=1>,\n",
       " <Person infected=True vaccinated=False x=1 y=3>,\n",
       " <Person infected=False vaccinated=False x=3 y=4>,\n",
       " <Person infected=True vaccinated=False x=3 y=4>,\n",
       " <Person infected=False vaccinated=False x=2 y=1>,\n",
       " <Person infected=True vaccinated=False x=1 y=1>,\n",
       " <Person infected=False vaccinated=False x=2 y=1>,\n",
       " <Person infected=False vaccinated=False x=1 y=2>,\n",
       " <Person infected=False vaccinated=False x=2 y=3>,\n",
       " <Person infected=False vaccinated=False x=4 y=2>,\n",
       " <Person infected=False vaccinated=False x=1 y=3>,\n",
       " <Person infected=False vaccinated=False x=4 y=2>,\n",
       " <Person infected=False vaccinated=False x=3 y=3>,\n",
       " <Person infected=False vaccinated=False x=1 y=4>,\n",
       " <Person infected=False vaccinated=False x=2 y=3>]"
      ]
     },
     "execution_count": 46,
     "metadata": {},
     "output_type": "execute_result"
    }
   ],
   "source": [
    "# 1.7 \n",
    "import random\n",
    "\n",
    "def run_model(list_length, infected_persons, max_grid_size, vaccinations, time_periods):\n",
    "    '''\n",
    "    int, int, int, int, int => [Person]\n",
    "    '''\n",
    "    # Write code below\n",
    "    entities = setup_simulation(list_length, infected_persons, max_grid_size)\n",
    "    for _ in range(time_periods):\n",
    "        entities = infect(entities)\n",
    "        entities = vaccinate(entities, vaccinations)\n",
    "        entities = shuffle(entities, max_grid_size)\n",
    "    return entities\n",
    "\n",
    "run_model(25, 1, 5, 1, 2)"
   ]
  },
  {
   "cell_type": "markdown",
   "id": "a44a586b-5aac-4e7f-b810-8c7353791954",
   "metadata": {},
   "source": [
    "## Unit tests\n",
    "\n",
    "This cell will grade your work."
   ]
  },
  {
   "cell_type": "code",
   "execution_count": 51,
   "id": "868c50f9-5529-40cf-bc4c-374ef95486ca",
   "metadata": {},
   "outputs": [
    {
     "name": "stdout",
     "output_type": "stream",
     "text": [
      "25\n"
     ]
    }
   ],
   "source": [
    "# !\n",
    "# DO NOT EDIT THIS CELL\n",
    "# !\n",
    "\n",
    "score = 0\n",
    "\n",
    "# 1.1\n",
    "if repr(sample_person) == '<Person infected=False vaccinated=True x=5 y=7>':\n",
    "    score += 1\n",
    "# 1.2\n",
    "t = True\n",
    "for i in range(5):\n",
    "    if not t: break\n",
    "    for l in range(10, 101):\n",
    "        if not t: break\n",
    "        for gs in range(20, 31):\n",
    "            if not t: break\n",
    "            s = setup_simulation(l, i, gs)\n",
    "            if len(s) != l:\n",
    "                print(\"Bad length\")\n",
    "                t = False\n",
    "            if len([j for j in s if j.infected]) != i:\n",
    "                print(\"Bad infected\")\n",
    "                t = False\n",
    "            if len([j for j in s if j.vaccinated]) != 0:\n",
    "                print(\"Bad vaccinations\")\n",
    "                t = False\n",
    "            for j in s:\n",
    "                if not (1 <= j.x <= gs and 1 <= j.y <= gs):\n",
    "                    print(\"Bad grid\")\n",
    "                    t = False\n",
    "if t:\n",
    "    score += 3\n",
    "# 1.3\n",
    "t = False\n",
    "if len(sample_simulation) == 5 and len([i for i in sample_simulation if i.infected]) == 1:\n",
    "    for i in sample_simulation:\n",
    "        if not (1 <= i.x <= 5 and 1 <= i.y <= 5):\n",
    "            break\n",
    "        t = True\n",
    "if t:\n",
    "    score += 1\n",
    "# 1.4\n",
    "measure = 0\n",
    "rounds = 0\n",
    "for i in range(1000):\n",
    "    for ll in range(50, 80):\n",
    "        for gs in range(5, 8):\n",
    "            rounds += 1\n",
    "            entities = setup_simulation(ll, 1, gs)\n",
    "            infected_cells = set([(p.x, p.y) for p in entities if p.infected])\n",
    "            initial_infected = {}\n",
    "            ic_expected = {}\n",
    "            ic_scores = {}\n",
    "            for ic in infected_cells:\n",
    "                initial_infected.update({ic: sum([1 for p in entities if ic == (p.x, p.y) and p.infected])})\n",
    "                ic_expected.update({ic: 0.9 * sum([1 for p in entities if ic == (p.x, p.y) and not p.infected]) for ic in infected_cells})\n",
    "            infect(entities)\n",
    "            for ic in infected_cells:\n",
    "                new_infected = sum([1 for p in entities if ic == (p.x, p.y) and p.infected]) - initial_infected[ic]\n",
    "                ic_scores.update({ic: abs(ic_expected[ic] - new_infected)})\n",
    "            measure += sum(ic_scores.values()) / len(ic_scores.values())\n",
    "if 32600 <= measure <= 33462:\n",
    "    score += 7\n",
    "# 1.5\n",
    "measure = 0\n",
    "for ll in range(50, 80):\n",
    "    for gs in range(100, 200):\n",
    "        entities = setup_simulation(ll, 0, gs)\n",
    "        old_entities = [(p.x, p.y) for p in entities]\n",
    "        new_entities = shuffle(entities, gs)\n",
    "        differents = [1 if p1 != (p2.x, p2.y) else 0 for p1, p2 in zip(old_entities, new_entities)]\n",
    "        measure += sum(differents)\n",
    "if 193470 <= measure <= 193511:\n",
    "    score += 3\n",
    "# 1.6\n",
    "measure = 1\n",
    "for ll in range(50, 80):\n",
    "    for i in range(ll):\n",
    "        entities = setup_simulation(ll, 0, 5)\n",
    "        entities = vaccinate(entities, i + 1)\n",
    "        if len([p for p in entities if p.vaccinated]) == i + 1:\n",
    "            continue\n",
    "        else:\n",
    "            measure = 0\n",
    "            break\n",
    "score += int(measure * 5)\n",
    "# 1.7\n",
    "measure = 0\n",
    "for ll in range(50, 80):\n",
    "    ip = 1\n",
    "    for gs in range(5, 10):\n",
    "        vaccinations = 1\n",
    "        for tp in range(10, 20):\n",
    "            entities = run_model(ll, ip, gs, vaccinations, tp)\n",
    "            measure += sum([1 for p in entities if p.infected])\n",
    "            measure += sum([1 for p in entities if p.vaccinated])\n",
    "if 114950 <= measure <= 115984:\n",
    "    score += 5\n",
    "            \n",
    "print(score)"
   ]
  },
  {
   "cell_type": "code",
   "execution_count": 48,
   "id": "16cda24b-d0c3-47ab-8945-3b831c1074ae",
   "metadata": {},
   "outputs": [
    {
     "name": "stdout",
     "output_type": "stream",
     "text": [
      "[115416, 115507, 115362, 115384, 115468, 115640, 115629, 115526, 115616, 115500, 115480, 115487, 115432, 115493, 115488, 115495, 115617, 115227, 115523, 115311, 115330, 115555, 115502, 115496, 115325, 115474, 115349, 115406, 115506, 115482]\n"
     ]
    }
   ],
   "source": [
    "meta = []\n",
    "for _ in range(30):\n",
    "    measure = 0\n",
    "    for ll in range(50, 80):\n",
    "        ip = 1\n",
    "        for gs in range(5, 10):\n",
    "            vaccinations = 1\n",
    "            for tp in range(10, 20):\n",
    "                entities = run_model(ll, ip, gs, vaccinations, tp)\n",
    "                measure += sum([1 for p in entities if p.infected])\n",
    "                measure += sum([1 for p in entities if p.vaccinated])\n",
    "    meta.append(measure)\n",
    "print(meta)"
   ]
  },
  {
   "cell_type": "code",
   "execution_count": 50,
   "id": "b372ce56-6d10-4b49-a8cf-74c2b2d4bf78",
   "metadata": {},
   "outputs": [
    {
     "name": "stdout",
     "output_type": "stream",
     "text": [
      "115467.53333333334\n",
      "114951.28333333334 115983.78333333334\n"
     ]
    }
   ],
   "source": [
    "meta = [115416, 115507, 115362, 115384, 115468, 115640, 115629, 115526, 115616, 115500, 115480, 115487, 115432, 115493, 115488, 115495, 115617, 115227, 115523, 115311, 115330, 115555, 115502, 115496, 115325, 115474, 115349, 115406, 115506, 115482]\n",
    "\n",
    "avg = sum(meta) / len(meta)\n",
    "rng = max(meta) - min(meta)\n",
    "\n",
    "print(avg)\n",
    "print(avg - rng * 1.25, avg + rng * 1.25)"
   ]
  },
  {
   "cell_type": "code",
   "execution_count": 24,
   "id": "a8385e74-15af-458e-a7ba-d049fe64b27d",
   "metadata": {},
   "outputs": [
    {
     "name": "stdout",
     "output_type": "stream",
     "text": [
      "33037.499999995794\n",
      "390.79999999947904\n",
      "32612 33462\n"
     ]
    }
   ],
   "source": [
    "meta = [33045.49999999569, 33030.19999999604, 33008.89999999562, 32877.89999999584, 33049.49999999569, 32921.49999999576, 32977.799999995754, 33126.19999999546, 32977.899999995956, 32973.19999999644, 33058.699999995566, 33036.0999999957, 33054.99999999573, 33108.39999999569, 32970.89999999599, 33098.89999999581, 33016.2999999959, 33102.699999995835, 33045.69999999608, 33268.69999999532]\n",
    "print(sum(meta) / len(meta))\n",
    "\n",
    "print(max(meta) - min(meta))\n",
    "\n",
    "print(33037 - 425, 33037 + 425)"
   ]
  },
  {
   "cell_type": "code",
   "execution_count": 35,
   "id": "46925e5c-ce42-4361-bcc2-82cbf971ca99",
   "metadata": {},
   "outputs": [],
   "source": [
    "measure = 0\n",
    "meta = []\n",
    "for _ in range(30):\n",
    "    measure = 0\n",
    "    for ll in range(50, 80):\n",
    "        for gs in range(100, 200):\n",
    "            entities = setup_simulation(ll, 0, gs)\n",
    "            old_entities = [(p.x, p.y) for p in entities]\n",
    "            new_entities = shuffle(entities, gs)\n",
    "            differents = [1 if p1 != (p2.x, p2.y) else 0 for p1, p2 in zip(old_entities, new_entities)]\n",
    "            measure += sum(differents)\n",
    "    meta.append(measure)"
   ]
  },
  {
   "cell_type": "code",
   "execution_count": 40,
   "id": "192bdc73-d8ce-4154-b36d-c4b47046b8f3",
   "metadata": {},
   "outputs": [
    {
     "name": "stdout",
     "output_type": "stream",
     "text": [
      "193490.5\n",
      "193470.5 193510.5\n"
     ]
    }
   ],
   "source": [
    "meta = [193489,\n",
    " 193492,\n",
    " 193491,\n",
    " 193481,\n",
    " 193486,\n",
    " 193487,\n",
    " 193491,\n",
    " 193496,\n",
    " 193490,\n",
    " 193495,\n",
    " 193489,\n",
    " 193490,\n",
    " 193489,\n",
    " 193492,\n",
    " 193492,\n",
    " 193487,\n",
    " 193490,\n",
    " 193485,\n",
    " 193497,\n",
    " 193492,\n",
    " 193491,\n",
    " 193486,\n",
    " 193489,\n",
    " 193497,\n",
    " 193496,\n",
    " 193488,\n",
    " 193491,\n",
    " 193490,\n",
    " 193492,\n",
    " 193494]\n",
    "\n",
    "avg = sum(meta) / len(meta)\n",
    "rng = max(meta) - min(meta)\n",
    "\n",
    "print(avg)\n",
    "print(avg - rng * 1.25, avg + rng * 1.25)"
   ]
  },
  {
   "cell_type": "code",
   "execution_count": null,
   "id": "3be7cf0b-9f71-4b77-8126-bb1fb673c063",
   "metadata": {},
   "outputs": [],
   "source": []
  }
 ],
 "metadata": {
  "kernelspec": {
   "display_name": "Python 3",
   "language": "python",
   "name": "python3"
  },
  "language_info": {
   "codemirror_mode": {
    "name": "ipython",
    "version": 3
   },
   "file_extension": ".py",
   "mimetype": "text/x-python",
   "name": "python",
   "nbconvert_exporter": "python",
   "pygments_lexer": "ipython3",
   "version": "3.9.5"
  }
 },
 "nbformat": 4,
 "nbformat_minor": 5
}
