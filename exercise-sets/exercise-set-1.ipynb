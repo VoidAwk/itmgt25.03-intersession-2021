{
 "cells": [
  {
   "cell_type": "markdown",
   "id": "4d6dd70e-91a7-427a-8f4d-46436c49ceef",
   "metadata": {},
   "source": [
    "# Exercise Set 1\n",
    "## Virus Spread Simulator\n",
    "\n",
    "by Joe Ilagan  "
   ]
  },
  {
   "cell_type": "markdown",
   "id": "51847f3c-d2a2-4b5b-888a-2db40f5c4938",
   "metadata": {},
   "source": [
    "## Brief\n",
    "\n",
    "One question people always have about programming is how it is useful in the real world. Let's put that question to rest immediately. In this exercise set, we are going to use Python to _simulate_ the spread of a virus based on how people travel.  \n",
    "\n",
    "### What is a simulation, and why are simulations important?  \n",
    "\n",
    "To _simulate_ a system (a set of things working together) is to _imitate_ its processes. This is useful for studying these systems and for predicting how these systems will behave without having to observe the system in the real world.  \n",
    "\n",
    "One way to imitate a system is to create a set of Python objects that will interact with each other in a way that resembles how the analogous objects interact in the real world. This Python program can be run over and over with no real-world consequences, and its output can be studied to understand how the real system can be expected to behave. The Python program can also be updated to reflect new discoveries about how the objects behave. This exercise is structured around the idea of _simulating_ the spread of a virus.  \n",
    "\n",
    "This particular exercise will not result in a scientifically useful model. However, you can extend this process to implement real scientific models when you read journal articles.  "
   ]
  },
  {
   "cell_type": "markdown",
   "id": "f740e65e-900b-432c-bf8c-04cdf27ad660",
   "metadata": {},
   "source": [
    "## The `Person` class  \n",
    "\n",
    "Recall that our simulation will need need many objects to interact with each other. To help us with this, we are going to create a special object, `Person`, to help us simulate a virus's spread.  \n",
    "\n",
    "Before we make the `Person` object, think about what the most important factors are in the real-world spread of a virus between people:\n",
    "1. Infection status\n",
    "2. Vaccination status\n",
    "3. Exposure by literal physical distance\n",
    "\n",
    "\n",
    "Let's translate that to object properties. What does a `Person` need for the simulation?  \n",
    "1. Whether they are infected (bool)\n",
    "2. Whether they are vaccinated (bool)\n",
    "3. Their current position on the x-axis (int)\n",
    "4. Their current position on the y-axis (int)  "
   ]
  },
  {
   "cell_type": "code",
   "execution_count": 4,
   "id": "78e96c56-24d7-437f-a825-a54f2e1a1509",
   "metadata": {},
   "outputs": [],
   "source": [
    "# !\n",
    "# DO NOT EDIT THIS CELL\n",
    "# !\n",
    "\n",
    "class Person:\n",
    "    # This function is the `initializer` function. \n",
    "    # It gets called when we instantiate the object.\n",
    "    def __init__(self, infected, vaccinated, x, y):\n",
    "        self.infected = infected\n",
    "        self.vaccinated = vaccinated\n",
    "        self.x = x\n",
    "        self.y = y\n",
    "        \n",
    "    # This function returns the string representation of our object based on its properties.\n",
    "    def __repr__(self):\n",
    "        return f'<Person infected={self.infected} vaccinated={self.vaccinated} x={self.x} y={self.y}>'"
   ]
  },
  {
   "cell_type": "markdown",
   "id": "abd4f896-5a2b-4308-8683-efd562069ae3",
   "metadata": {},
   "source": [
    "## 1.1 (1 point)\n",
    "\n",
    "This item will help you understand how classes and objects work before you work with them.  \n",
    "\n",
    "Objects are instantiated from classes by calling the class name like a function. The arguments to pass to the class are the same arguments that `__init__` expects (without the special `self` argument, which is passed automatically).  \n",
    "\n",
    "Explicitly:  \n",
    "`var_name = Person(infected, vaccinated, x, y)`  \n",
    "\n",
    "First, assign the name `sample_person` to a `Person` object that is not infected, not vaccinated, and is currently at position (5, 7). Second, pass `sample_person` as an argument to `print`."
   ]
  },
  {
   "cell_type": "code",
   "execution_count": null,
   "id": "af8156c7-0e75-43c4-ba52-cfcabe9a0710",
   "metadata": {},
   "outputs": [],
   "source": [
    "# 1.1 Cell 1"
   ]
  },
  {
   "cell_type": "markdown",
   "id": "74fb5b83-c102-4472-bec1-b4fe608f1065",
   "metadata": {},
   "source": [
    "This should give you an idea of how classes work."
   ]
  },
  {
   "cell_type": "markdown",
   "id": "24914e94-3a58-42ee-bc74-aec78424e7f9",
   "metadata": {},
   "source": [
    "You can access an object's properties (e.g., `infected`, `vaccinated`) with the dot operator as such:  \n",
    "\n",
    "`object_name.property`  \n",
    "\n",
    "Re-assign the property `vaccinated` of `sample_person` to `True` and print `sample_person` again.  "
   ]
  },
  {
   "cell_type": "code",
   "execution_count": 9,
   "id": "b21cee7d-94dc-4ce4-abaa-07f702955121",
   "metadata": {},
   "outputs": [],
   "source": [
    "# 1.1 Cell 2"
   ]
  },
  {
   "cell_type": "markdown",
   "id": "7d02ae00-6f06-4043-86fe-a2c3a2cc7e4d",
   "metadata": {},
   "source": [
    "Now that you understand how to work with objects, we can proceed to implementing the simulation."
   ]
  },
  {
   "cell_type": "markdown",
   "id": "d097cf23-869d-4ba3-bcd8-a728437020e9",
   "metadata": {},
   "source": [
    "## 1.2 (3 points)  \n",
    "\n",
    "This is where the real work begins.  \n",
    "\n",
    "To set up the simulation, we will need a collection of `Person` objects. We will make a function to generate such a collection.  \n",
    "\n",
    "The cell below contains an empty function `setup_simulation`. Complete it such that it returns a list of `Person` objects that adheres to the following rules:  \n",
    "\n",
    "1. The list must be of the specified length `list_length`.\n",
    "2. There must be exactly `infected_persons` `Person` objects whose `infected` property value is True.\n",
    "3. None of the `Person` objects must have a `vaccinated` property value of True.\n",
    "4. The `x` and `y` properties must be randomized between (inclusive) 1 and `max_grid_size`. Use the `random` module. Refer to Concept Set 4 if you don't know how to use libraries."
   ]
  },
  {
   "cell_type": "code",
   "execution_count": 29,
   "id": "44b85add-6c63-4446-aea8-1031044ddb49",
   "metadata": {},
   "outputs": [],
   "source": [
    "# 1.2\n",
    "import random\n",
    "\n",
    "def setup_simulation(list_length, infected_persons, max_grid_size):\n",
    "    '''\n",
    "    int, int, int => [Person]\n",
    "    '''\n",
    "    # Write code below"
   ]
  },
  {
   "cell_type": "markdown",
   "id": "6604a6e3-aab0-4e4e-89b6-8a0e74217cd3",
   "metadata": {},
   "source": [
    "## 1.3 (1 point)\n",
    "\n",
    "Use `setup_simulation` to generate a list of 5 `Person` objects with 1 infected `Person` on a grid of size 5. Assign this list to the variable `sample_simulation`. Print each of the `Person` objects in `sample_simulation`."
   ]
  },
  {
   "cell_type": "code",
   "execution_count": null,
   "id": "801aa476-460c-424c-b8a9-e2283e692291",
   "metadata": {},
   "outputs": [],
   "source": [
    "# 1.3"
   ]
  },
  {
   "cell_type": "markdown",
   "id": "44ae0ff4-72ae-47fe-b014-648345a559a2",
   "metadata": {},
   "source": [
    "## 1.4 (7 points)  \n",
    "\n",
    "Write a function `infect` that takes a list of `Person` objects called `simulation_entities` as an argument.  \n",
    "\n",
    "This function should apply the following changes to `simulation_entities`:\n",
    "1. Any uninfected and unvaccinated `Person` that shares coordinates with an infected `Person` must have a 90% chance to become infected.  \n",
    "2. Any uninfected and vaccinated `Person` that shares coordinates with an infected `Person` must have a 10% chance to become infected.  \n",
    "\n",
    "This function should return the modified list."
   ]
  },
  {
   "cell_type": "code",
   "execution_count": 1,
   "id": "97781751-a835-47fc-9d85-0023771070f0",
   "metadata": {},
   "outputs": [],
   "source": [
    "# 1.4\n",
    "import random\n",
    "\n",
    "def infect(simulation_entities):\n",
    "    '''\n",
    "    [Person] => [Person]\n",
    "    '''\n",
    "    # Write code below"
   ]
  },
  {
   "cell_type": "markdown",
   "id": "4588451b-c192-4a7e-8d16-3c874a5310b2",
   "metadata": {},
   "source": [
    "## 1.5 (3 points)\n",
    "\n",
    "Write a function `shuffle` that takes a list of `Person` objects called `simulation_entities` and an integer `max_grid_size` as arguments.  \n",
    "\n",
    "This function should apply the following changes to `simulation_entities`:\n",
    "1. Each person in the list should be given a new and random pair of coordinates. Each coordinate should be between 1 and `max_grid_size`.\n",
    "\n",
    "This function should return the modified list."
   ]
  },
  {
   "cell_type": "code",
   "execution_count": 39,
   "id": "2040cda4-4320-446c-900a-891d486cdb61",
   "metadata": {},
   "outputs": [],
   "source": [
    "# 1.5\n",
    "import random\n",
    "\n",
    "def shuffle(simulation_entities, max_grid_size):\n",
    "    '''\n",
    "    [Person], int => [Person]\n",
    "    '''\n",
    "    # Write code below"
   ]
  },
  {
   "cell_type": "markdown",
   "id": "120e4f46-f9cf-4ae6-be77-32af4c7dc820",
   "metadata": {},
   "source": [
    "## 1.6 (5 points)\n",
    "\n",
    "Write a function `vaccinate` that takes a list of `Person` objects called `simulation_entities` and an integer `vaccinations` as arguments.  \n",
    "\n",
    "This function should apply the following changes to `simulation_entities`:\n",
    "1. Exactly `vaccinations` number of unvaccinated `Person` objects should have their vaccination properties set to True. If the number of unvaccinated `Person` objects is less than `vaccinations`, simply vaccinate the rest of the unvaccinated `Person` objects.\n",
    "\n",
    "This function should return the modified list."
   ]
  },
  {
   "cell_type": "code",
   "execution_count": 2,
   "id": "14dbfc7d-900b-4860-acc6-9edecdabb2a2",
   "metadata": {},
   "outputs": [],
   "source": [
    "# 1.6\n",
    "import random\n",
    "\n",
    "def vaccinate(simulation_entities, vaccinations):\n",
    "    '''\n",
    "    [Person] => [Person]\n",
    "    '''\n",
    "    # Write code below"
   ]
  },
  {
   "cell_type": "markdown",
   "id": "c53bda6c-cd22-4af9-a570-a13c2286d393",
   "metadata": {},
   "source": [
    "## 1.7 (5 points)\n",
    "\n",
    "Write a function `run_model` that takes these arguments:  \n",
    "1. list_length (int)\n",
    "2. infected_persons (int)\n",
    "3. max_grid_size (int)\n",
    "4. vaccinations (int)\n",
    "5. time_periods (int)\n",
    "\n",
    "`run_model` should generate a list of `Person` objects via the `setup_simulation` function that will then be subjected to `time_periods` rounds. Each round consists of the following:  \n",
    "1. Infection via the `infect` function.\n",
    "2. Vaccination via the `vaccinate` function. \n",
    "3. Shuffling via the `shuffle` function.\n",
    "\n",
    "Pass the appropriate arguments to the `setup_simulation`, `infect`, `vaccinate`, and `shuffle` functions.  \n",
    "\n",
    "`run_model` should return the final list of `Person` objects."
   ]
  },
  {
   "cell_type": "code",
   "execution_count": null,
   "id": "6122aa47-2ef6-4650-aa0e-7c30ba6901cf",
   "metadata": {},
   "outputs": [],
   "source": [
    "# 1.7 \n",
    "import random\n",
    "\n",
    "def run_model(list_length, infected_persons, max_grid_size, vaccinations, time_periods):\n",
    "    '''\n",
    "    int, int, int, int, int => [Person]\n",
    "    '''\n",
    "    # Write code below"
   ]
  },
  {
   "cell_type": "markdown",
   "id": "a44a586b-5aac-4e7f-b810-8c7353791954",
   "metadata": {},
   "source": [
    "## Unit tests\n",
    "\n",
    "This cell will grade your work."
   ]
  },
  {
   "cell_type": "code",
   "execution_count": null,
   "id": "868c50f9-5529-40cf-bc4c-374ef95486ca",
   "metadata": {},
   "outputs": [],
   "source": [
    "# !\n",
    "# DO NOT EDIT THIS CELL\n",
    "# !\n",
    "\n",
    "score = 0\n",
    "\n",
    "# 1.1\n",
    "if repr(sample_person) == '<Person infected=False vaccinated=True x=5 y=7>':\n",
    "    score += 1\n",
    "# 1.2\n",
    "t = True\n",
    "for i in range(5):\n",
    "    if not t: break\n",
    "    for l in range(10, 101):\n",
    "        if not t: break\n",
    "        for gs in range(20, 31):\n",
    "            if not t: break\n",
    "            s = setup_simulation(l, i, gs)\n",
    "            if len(s) != l:\n",
    "                print(\"Bad length\")\n",
    "                t = False\n",
    "            if len([j for j in s if j.infected]) != i:\n",
    "                print(\"Bad infected\")\n",
    "                t = False\n",
    "            if len([j for j in s if j.vaccinated]) != 0:\n",
    "                print(\"Bad vaccinations\")\n",
    "                t = False\n",
    "            for j in s:\n",
    "                if not (1 <= j.x <= gs and 1 <= j.y <= gs):\n",
    "                    print(\"Bad grid\")\n",
    "                    t = False\n",
    "if t:\n",
    "    score += 3\n",
    "# 1.3\n",
    "t = False\n",
    "if len(sample_simulation) == 5 and len([i for i in sample_simulation if i.infected]) == 1:\n",
    "    for i in sample_simulation:\n",
    "        if not (1 <= i.x <= 5 and 1 <= i.y <= 5):\n",
    "            break\n",
    "        t = True\n",
    "if t:\n",
    "    score += 1\n",
    "# 1.4\n",
    "measure = 0\n",
    "rounds = 0\n",
    "for i in range(1000):\n",
    "    for ll in range(50, 80):\n",
    "        for gs in range(5, 8):\n",
    "            rounds += 1\n",
    "            entities = setup_simulation(ll, 1, gs)\n",
    "            infected_cells = set([(p.x, p.y) for p in entities if p.infected])\n",
    "            initial_infected = {}\n",
    "            ic_expected = {}\n",
    "            ic_scores = {}\n",
    "            for ic in infected_cells:\n",
    "                initial_infected.update({ic: sum([1 for p in entities if ic == (p.x, p.y) and p.infected])})\n",
    "                ic_expected.update({ic: 0.9 * sum([1 for p in entities if ic == (p.x, p.y) and not p.infected]) for ic in infected_cells})\n",
    "            infect(entities)\n",
    "            for ic in infected_cells:\n",
    "                new_infected = sum([1 for p in entities if ic == (p.x, p.y) and p.infected]) - initial_infected[ic]\n",
    "                ic_scores.update({ic: abs(ic_expected[ic] - new_infected)})\n",
    "            measure += sum(ic_scores.values()) / len(ic_scores.values())\n",
    "if 32600 <= measure <= 33462:\n",
    "    score += 7\n",
    "# 1.5\n",
    "measure = 0\n",
    "for ll in range(50, 80):\n",
    "    for gs in range(100, 200):\n",
    "        entities = setup_simulation(ll, 0, gs)\n",
    "        old_entities = [(p.x, p.y) for p in entities]\n",
    "        new_entities = shuffle(entities, gs)\n",
    "        differents = [1 if p1 != (p2.x, p2.y) else 0 for p1, p2 in zip(old_entities, new_entities)]\n",
    "        measure += sum(differents)\n",
    "if 193470 <= measure <= 193511:\n",
    "    score += 3\n",
    "# 1.6\n",
    "measure = 1\n",
    "for ll in range(50, 80):\n",
    "    for i in range(ll):\n",
    "        entities = setup_simulation(ll, 0, 5)\n",
    "        entities = vaccinate(entities, i + 1)\n",
    "        if len([p for p in entities if p.vaccinated]) == i + 1:\n",
    "            continue\n",
    "        else:\n",
    "            measure = 0\n",
    "            break\n",
    "score += int(measure * 5)\n",
    "# 1.7\n",
    "measure = 0\n",
    "for ll in range(50, 80):\n",
    "    ip = 1\n",
    "    for gs in range(5, 10):\n",
    "        vaccinations = 1\n",
    "        for tp in range(10, 20):\n",
    "            entities = run_model(ll, ip, gs, vaccinations, tp)\n",
    "            measure += sum([1 for p in entities if p.infected])\n",
    "            measure += sum([1 for p in entities if p.vaccinated])\n",
    "if 114950 <= measure <= 115984:\n",
    "    score += 5\n",
    "            \n",
    "print('Score:', score)"
   ]
  },
  {
   "cell_type": "code",
   "execution_count": null,
   "id": "a8385e74-15af-458e-a7ba-d049fe64b27d",
   "metadata": {},
   "outputs": [],
   "source": []
  }
 ],
 "metadata": {
  "kernelspec": {
   "display_name": "Python 3",
   "language": "python",
   "name": "python3"
  },
  "language_info": {
   "codemirror_mode": {
    "name": "ipython",
    "version": 3
   },
   "file_extension": ".py",
   "mimetype": "text/x-python",
   "name": "python",
   "nbconvert_exporter": "python",
   "pygments_lexer": "ipython3",
   "version": "3.9.5"
  }
 },
 "nbformat": 4,
 "nbformat_minor": 5
}
